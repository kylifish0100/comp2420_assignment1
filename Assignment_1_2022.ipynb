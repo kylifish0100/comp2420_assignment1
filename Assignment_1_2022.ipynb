{
 "cells": [
  {
   "cell_type": "markdown",
   "metadata": {},
   "source": [
    "<h1 align='center'> COMP2420/COMP6420 - Introduction to Data Management,<br/> Analysis and Security</h1>\n",
    "\n",
    "<h1 align='center'> Assignment - 1 (2022)</h1>\n",
    "\n",
    "-----\n",
    "\n",
    "|**Maximum Marks**         |**100**\n",
    "|--------------------------|--------\n",
    "|  **Weight**              |  **15% of the Total Course Grade**\n",
    "|  **Submission deadline** |  **TBA**\n",
    "|  **Submission mode**     |  **Electronic, Using GitLab**\n",
    "|  **Penalty**             |  **100% after the deadline**\n",
    "\n",
    "\n",
    "## Learning Outcomes\n",
    "The following learning outcomes apply to this piece:\n",
    "- **LO3** - Demonstrate basic knowledge and understanding of descriptive and predictive data analysis methods, optimization and search, and knowledge representation.\n",
    "- **LO4** - Formulate and extract descriptive and predictive statistics from data\n",
    "- **LO5** - Analyse and interpret results from descriptive and predictive data analysis\n",
    "- **LO6** - Apply their knowledge to a given problem domain and articulate potential data analysis problems\n",
    "\n",
    "\n",
    "## Submission\n",
    "\n",
    "You need to submit the following items:\n",
    "- The notebook `Assignment_1_2022_uXXXXXXX.ipynb` (where uXXXXXXX is your uid) \n",
    "- A completed `statement-of-originality.md`, found in the root of the forked gitlab repo.\n",
    "\n",
    "Submissions are performed by pushing to your forked GitLab assignment repository. For a refresher on forking and cloning repositories, please refer to `Lab 1`. Issues with your Git repo (with the exception of a CECS/ANU wide Gitlab failure) will not be considered as grounds for an extension. You will also need to add your details below. Any variation of this will result in a `zero mark`.\n",
    "\n",
    "***** \n",
    "\n",
    "### Notes:\n",
    "\n",
    "* It is strongly advised to read the whole assignment before attempting it and have at least a cursory glance at the dataset in order to gauge the requirements and understand what you need to do as a bigger picture.\n",
    "* Backup your assignment to your Gitlab repo often. \n",
    "* Extra reading and research will be required. Make sure you include all references in your Statement of Originality. If this does not occur, at best marks will be deduced. Otherwise, academic misconduct processes will be followed.\n",
    "* For answers requiring free form written text, use the designated cells denoted by `YOUR WRITTEN ANSWER HERE` -- double click on the cell to write inside them.\n",
    "* For all coding questions please write your code after the comment `YOUR CODE HERE`. Remember to document your code using comments and doc strings as appropriate.\n",
    "* In the process of testing your code, you can insert more cells or use print statements for debugging, but when submitting your file remember to remove these cells and calls respectively. You are welcome to add additional cells to the final submission, provided they add value to the overall piece.\n",
    "* You will be marked on **correctness** and **readability** of your code, if your marker can't understand your code your marks may be deducted.\n",
    "* Comment your code.\n",
    "* Before submitting, restart the kernel in Jupyter Lab and re-run all cells before submitting your code. This will ensure the namespace has not kept any old variables, as these won't come across in submission and your code will not run. Without this, you could lose a significant number of marks.\n",
    "\n",
    "*****\n",
    "\n",
    "Credit: This assignment is based on previous work by Alex Niven in COMP2420/6420.  We thank Alex for allowing us to use his work and build on it."
   ]
  },
  {
   "cell_type": "markdown",
   "metadata": {},
   "source": [
    "### Enter your Student ID below:"
   ]
  },
  {
   "cell_type": "raw",
   "metadata": {},
   "source": [
    "u7262936"
   ]
  },
  {
   "cell_type": "markdown",
   "metadata": {
    "tags": []
   },
   "source": [
    "******\n",
    "## Context\n",
    "You have been hired as a data scientist on a cybersecurity consulting team.  Your team has been tasked with advising government on the risk and impact of recent cybersecurity threats. \n",
    "\n",
    "### What is cybersecurity and why do we care?\n",
    "\n",
    "“Cybersecurity is the practice of protecting critical systems and sensitive information from digital attacks” (IBM,2022).  Attackers normally target vulnerabilities in software and hardware systems in order to either bring down a system or steal sensitive or personal information.  Common cyber threats include malware, phishing, ransomware and distributed denial of service (DDoS).  You can read more about cyber threats on [the Australian Cyber Security Centre web page](https://www.cyber.gov.au/acsc/individuals-and-families/threats).  \n",
    "\n",
    "Cyber-attacks can have significant negative impact to individuals, businesses and society at large.  They can lead to loss of privacy and money, cause disruption in key services and even cause death (some examples are given in [this article on impact of cyber-attacks here](https://www.securitymagazine.com/articles/96337-the-real-world-impacts-of-cyberattacks)).  Moreover, dealing with cyber-attacks is expensive.  IBM reports that the cost of a data breach in 2020 was USD $3.85 million globally (IBM, 2022).  \n",
    "\n",
    "\n",
    "### How could you start your underlying investigation?\n",
    "\n",
    "As a data scientist, you need to understand what problem you are trying to solve first.  In this particular case, you are trying to assess the risk and impact of recent cybersecurity threats.  In order to do so, you need to know what are those threats and have a method to carry out this assessment.  Where can you find this information?  There are various sources you could draw from.  To get started, your team has identified a few relevant systems for your investigation as described next.\n",
    "\n",
    "#### The Common Vulnerability and Exposures (CVE) system\n",
    "The CVE system is like a database that holds a number of the publicly known vulnerabilities that exist for software. It is the de-facto identifying system for publicly exposed vulnerabilities in systems, used by big tech companies such as  Apple, Microsoft, Google, Red Hat, etc. The CVE is a schema that allows the consistent storing of information regarding vulnerabilities.  More reading on the CVE is [here](https://www.cve.org/)\n",
    "\n",
    "The CVE system was developed by [The MITRE Corporation](https://www.mitre.org/) almost 20 years ago, and is now the de-facto system for providing identifiers for vulnerabilities in various systems. \n",
    "\n",
    "CVE defines a vulnerability as, _\"A weakness in the computational logic (e.g., code) found in software and hardware components that, when exploited, results in a negative impact to confidentiality, integrity, or availability\"._ A CVE can affect multiple products and multiple software versions of a product.\n",
    "\n",
    "However, the CVE system alone is incomplete, and extended by organisations such as the **National Vulnerability Database (NVD)**.\n",
    "\n",
    "#### The Common Weakness Enumeration (CWE) system\n",
    "There is another related system to CVE called the [Common Weakness Enumeration (CWE)](https://cwe.mitre.org), also developed by MITRE. CWE categorises types of software vulnerabilities whereas CVE is just a list of currently known vulnerabilities regarding specific systems and products (Camacho, 2021) .  Each CWE identifier is related to a specific type of weakness which will have its own unique characteristics, rather than specific instances of vulnerabilities within products or systems. \n",
    "The CWE's are broadly viewed in three categories:\n",
    "- [by Software Development](https://cwe.mitre.org/data/definitions/699.html)\n",
    "- [by Hardware Design](https://cwe.mitre.org/data/definitions/1194.html)\n",
    "- [by Research Concepts](https://cwe.mitre.org/data/definitions/1000.html)\n",
    "\n",
    "#### The Common Vulnerability Scoring System (CVSS)\n",
    "CVSS is the de-facto scoring system for determining the impacts of vulnerabilities in the CVE system.  It is developed and maintained by the [National Vulnerability Database (NVD)](https://nvd.nist.gov).  All vulnerabilities in the NVD have been assigned a CVE identifier. Developed by the Forum of Incident Response and Security Teams (FIRST), the CVSS system is now in its 3<sup>rd</sup> major iteration (version 3).\n",
    "\n",
    "### The Assignment Dataset: based on the Common Vulnerability Scoring System (CVSS) data\n",
    "The assignment dataset is derived from a subset of the Common Vulnerability Scoring System (CVSS) data for the year 2020 available from the [National Vulnerability Database (NVD)](https://nvd.nist.gov). \n",
    "\n",
    "Note that while over 1000 CWE identifiers exist, only a small subset will be present within our dataset. This is due to the NVD using their own subset of them, which can be found on the [NVD website](https://nvd.nist.gov/vuln/categories).\n",
    "\n",
    "We have further filtered the 2020 CVSS dataset by retaining only the records that relate to the Software Development viewpoint. In our dataset, each unique CVE is mapped to one or more CWE's and is given a vulnerability score that is assigned by the CVSS scoring system. \n",
    "\n",
    "\n",
    "\n",
    "### What should I do next? \n",
    "Good question! Now that you have some background, you can work with the given CVE-based dataset as a starting point to explore a number of questions to help in your investigation.  You can draw on your python, data analysis and basic machine learning skills to work towards the goal that your team has been tasked with.\n",
    "\n",
    "\n",
    "*****\n",
    "\n",
    "References\n",
    "\n",
    "IBM. 2022. What is Cybersecurity? | IBM. [online] Available at: [https://www.ibm.com/au-en/topics/cybersecurity](https://www.ibm.com/au-en/topics/cybersecurity). (Accessed 3 March 2022).\n",
    "\n",
    "Camacho, R. 2021.  All about CWE: Common Weakness Enumeration. Parasoft. [https://www.parasoft.com/blog/what-is-cwe/#:~:text=In%20short%3A%20the%20difference%20between,regarding%20specific%20systems%20and%20products.](https://www.parasoft.com/blog/what-is-cwe/#:~:text=In%20short%3A%20the%20difference%20between,regarding%20specific%20systems%20and%20products.)"
   ]
  },
  {
   "cell_type": "markdown",
   "metadata": {},
   "source": [
    "**********\n",
    "## Data Description\n",
    "We have a sizable dataset to give you (in the form of 2 files), so it is wise to consider your code in terms of complexity to ensure it doesn't take 30 minutes to run a single line. \n",
    "\n",
    "The below tables provide an outline of the data, broken down into the columns of the dataset features. \n",
    "\n",
    "###  The CVSS data table\n",
    "| Column Name    | Description    |\n",
    "| :------------- | :------------- |\n",
    "| cve_id         | The CVE identifier for the vulnerability |\n",
    "| assigner       | The entity who assigned the CVE |\n",
    "| description     | A description of the vulnerability |\n",
    "| cwe_ids         | The CWE identifiers of the vulnerability. Note that there can be multiple cwe_id's attached to one cve_id |\n",
    "| refs            | url links to the initial postings of the vulnerability |\n",
    "| ref_names       | other information which provide more reference about the CVE |\n",
    "| ref_sources     | other information which provide more reference about the CVE |\n",
    "| ref_tags        | other information which provide more reference about the CVE |\n",
    "| v3_attackVector | CVSSv3 field, identifier for how the vulnerability would be used in an attack |\n",
    "| v3_attackComplexity | CVSSv3 field, identifier for the difficulty of performing an attack using the vulnerability |\n",
    "| v3_privilegesRequired | CVSSv3 field, an identifier for the privileges required in the system to use the vulnerability successfully |\n",
    "| v3_userInteraction | CVSSv3 field, an identifier for whether a user needs to actively interact for the vulnerability to be exploited or not |\n",
    "| v3_scope | CVSSv3 field, an identifier for whether the scope of an item changes when using the vulnerability. e.g: whether a regular user becomes a superuser. |\n",
    "| v3_confidentialityImpact | CVSSv3 field, identifier for the impact upon the confidentiality of information in the product/service after using the vulnerability |\n",
    "| v3_integrityImpact | CVSSv3 field, identifier for the impact upon the integrity of information in the product/service after using the vulnerability |\n",
    "| v3_availabilityImpact | CVSSv3, field, identifier for the impact upon the availability of information in the product/service after using the vulnerability |\n",
    "| v3_exploitabilityScore | The Exploitability Score is a sub score of the CVSS Base Score |\n",
    "| v3_impactScore | The Impact Score is a sub score of the CVSS Base Score |\n",
    "| v3_baseScore | The CVSS score (out of 10) given to the vulnerability based on CVSS v3.1 |\n",
    "| v3_baseSeverity | A textual representation of the numeric Base Score|\n",
    "\n",
    "We only use the Base Metrics out of the [CVSS Metrics](https://www.first.org/cvss/v3-1/media/MetricGroups.svg). While there are additional metrics that can be applied, most are variants. Therefore, we will use the base metrics. The column names starting with 'v3_' are CVSS v3.1 metrics. Refer to the specification document  [CVSSv3.1 Guide](https://www.first.org/cvss/v3.1/specification-document) for more information on the metrics. \n",
    "\n",
    "**Note:** While this dataset has 20 columns, the data in the last four columns have been purposely omitted (see Question 2 of the Assignment)."
   ]
  },
  {
   "cell_type": "markdown",
   "metadata": {},
   "source": [
    "###  The CVE to Configurations mapping table\n",
    "| Column Name    | Description    |\n",
    "| :------------- | :------------- |\n",
    "| cve_id         | The CVE identifier for the vulnerability |\n",
    "| vendor         | The name of the vendor who produces the product |\n",
    "| product_name   | The name of the affected product       |\n",
    "| version        | List of the affected product versions |\n",
    "\n",
    "Recall that a CVE can affect multiple products and multiple software versions of a product."
   ]
  },
  {
   "cell_type": "markdown",
   "metadata": {},
   "source": [
    "*******************\n",
    "## Package Imports"
   ]
  },
  {
   "cell_type": "code",
   "execution_count": 2,
   "metadata": {},
   "outputs": [],
   "source": [
    "# Common Imports\n",
    "import numpy as np\n",
    "import pandas as pd\n",
    "from scipy import stats\n",
    "from sklearn.linear_model import LinearRegression\n",
    "import matplotlib.pyplot as plt\n",
    "from matplotlib import cm\n",
    "import seaborn as sns\n",
    "plt.style.use('seaborn')\n",
    "%matplotlib inline"
   ]
  },
  {
   "cell_type": "code",
   "execution_count": 3,
   "metadata": {},
   "outputs": [],
   "source": [
    "# Import additional modules here as required\n",
    "# It is unlikely that you would need any additional modules, however we had added space here just in case you feel \n",
    "#     extras are required. Note that justification as to WHY you are using them MUST be provided.\n",
    "#\n",
    "# Note that only modules in the standard Anaconda distribution are allowed. If you need to install it manually, it is not an accepted package.\n",
    "#\n",
    "#"
   ]
  },
  {
   "cell_type": "markdown",
   "metadata": {},
   "source": [
    "****\n",
    "## Q1: Loading and Processing the Data\n",
    "Your first step in any data analysis and visualisation task is to load the data and make it usable. Note that the data consists of various types (Categorical, Numerical, Text, etc.). Also the dataset may not be perfect; it may contain missing data or invalid values at some places. It would be wise to perform some pre-processing to make the data easier to work with. \n",
    "\n",
    "#### (Q1.a) You need to load the following two files available in the './data' folder into a suitable data structure:\n",
    "- cvss_dataset.csv\n",
    "- cve_configurations_mapping.csv\n",
    "\n",
    "Please write out the code you would use to load those files and the code you would use to perform some pre-processing. (2 marks)\n",
    "\n",
    "#### (Q1.b)You also need to briefly outline your steps and justify your decisions. \n",
    "This is an open-ended question, and marks will be awarded for logical processing of data. (3 marks)\n",
    "\n",
    "**HINTS** -\n",
    "* You might need to split some columns into two or combine two columns into one to make them more useful from an analysis point-of-view.\n",
    "* You might need to rename some columns.\n",
    "* It may be worth recoding the CVSS data to the numerical values required for Q2.\n",
    "* You are welcome to drop unwanted columns (but don't remove or impute values for the last four columns as you will be asked to recreate these columns in Q2)\n",
    "* If you wish, you may combine the data available in both files.\n",
    "\n",
    "<span style= 'float: right;'><b>[5 marks]</b></span>"
   ]
  },
  {
   "cell_type": "code",
   "execution_count": 4,
   "metadata": {},
   "outputs": [],
   "source": [
    "# YOUR CODE HERE (Q1.a)\n",
    "cvss_dataset = pd.read_csv(\"./data/cvss_dataset.csv\")\n",
    "cve_mapping = pd.read_csv(\"./data/cve_configurations_mapping.csv\")\n",
    "cvss_dataset = cvss_dataset.drop(columns=['refs','ref_names','ref_sources','ref_tags'])\n",
    "merged_dataset = pd.merge(cvss_dataset, cve_mapping, on=[\"cve_id\"])\n",
    "# cvss_NAN = cvss_dataset[cvss_dataset.isna().any(axis=1)]\n",
    "# print(cvss_NAN)\n",
    "# (ADD ANY ADDITIONAL CELLS AS REQUIRED)"
   ]
  },
  {
   "cell_type": "raw",
   "metadata": {},
   "source": [
    "# YOUR WRITTEN ANSWER HERE (Q1.b)"
   ]
  },
  {
   "cell_type": "markdown",
   "metadata": {
    "tags": []
   },
   "source": [
    "******\n",
    "## Q2: Recreating Missing Data\n",
    "While the dataset that has been provided is thorough, you may have already noticed that the last four columns (i.e. 'v3_exploitabilityScore', 'v3_impactScore', 'v3_baseScore', 'v3_baseSeverity) are empty. These are related to the CVSSv3.1 base score and are well documented in the specification documents  [CVSSv3.1 Guide](https://www.first.org/cvss/v3.1/specification-document) and [CVSS calculator](https://www.first.org/cvss/calculator/3.1).\n",
    "\n",
    "Your task is as follows:\n",
    "\n",
    "#### (Q2.a) Implement a **CVSSv3.1** Base Score calculator and recalculate values for the last four columns for each applicable entry in the dataset. (5 marks) \n",
    "\n",
    "#### (Q2.b) Explain how you performed the calculations. Provide the [Equations](https://www.first.org/cvss/v3-1/media/EquationsDiagram.svg) that you used. (5 marks)\n",
    "\n",
    "<span style= 'float: right;'><b>[10 marks]</b></span>\n",
    "\n",
    "<br><br>\n",
    "**Additional Questions for COMP6420 students: [worth extra 5 marks]** \n",
    "\n",
    "#### (Q2.c) Please explain how would you validate that your calculations are correct? (3 marks)\n",
    "\n",
    "#### (Q2.d) Provide some evidence that you have validated your calculations. (2 marks)"
   ]
  },
  {
   "cell_type": "code",
   "execution_count": 24,
   "metadata": {},
   "outputs": [],
   "source": [
    "# YOUR CODE HERE\n",
    "def Attack_Vector_n(Attack_Vector):\n",
    "    if Attack_Vector == \"NETWORK\":\n",
    "        return 0.85\n",
    "    elif Attack_Vector == \"ADJACENT\" or Attack_Vector == \"ADJACENT_NETWORK\":\n",
    "        return 0.62\n",
    "    elif Attack_Vector == \"LOCAL\":\n",
    "        return 0.55\n",
    "    elif Attack_Vector == \"PHYSICAL\":\n",
    "        return 0.2\n",
    "\n",
    "def Attack_Complexity_n(Attack_Complexity):\n",
    "    if Attack_Complexity == \"LOW\":\n",
    "        return 0.77\n",
    "    elif Attack_Complexity == \"HIGH\":\n",
    "        return 0.44\n",
    "    \n",
    "def Privileges_Required_n(Privileges_Required, Scope):\n",
    "    if Privileges_Required == \"NONE\":\n",
    "        return 0.85\n",
    "    elif Privileges_Required == \"LOW\" and Scope == \"UNCHANGED\":\n",
    "        return 0.62\n",
    "    elif Privileges_Required == \"LOW\" and Scope == \"CHANGED\":\n",
    "        return 0.68\n",
    "    elif Privileges_Required == \"HIGH\" and Scope == \"UNCHANGED\":\n",
    "        return 0.27\n",
    "    elif Privileges_Required == \"HIGH\" and Scope == \"CHANGED\":\n",
    "        return 0.5\n",
    "\n",
    "def User_Interaction_n(User_Interaction):\n",
    "    if User_Interaction == \"NONE\":\n",
    "        return 0.85\n",
    "    elif User_Interaction == \"REQUIRED\":\n",
    "        return 0.62\n",
    "\n",
    "def Con_Int_Ava(x):\n",
    "    if x == \"HIGH\":\n",
    "        return 0.56\n",
    "    elif x == \"LOW\":\n",
    "        return 0.22\n",
    "    elif x == \"NONE\":\n",
    "        return 0\n",
    "\n",
    "def impactScore(ISS, Scope):\n",
    "    if Scope == \"UNCHANGED\":\n",
    "        return 6.42*ISS\n",
    "    elif Scope == \"CHANGED\":\n",
    "        return 7.52 * (ISS - 0.029) - 3.25 * (ISS - 0.02)**15\n",
    "\n",
    "def baseScore(Impact, Exploitability, Scope):\n",
    "    if Impact <= 0: \n",
    "        return 0\n",
    "    elif Scope == \"UNCHANGED\":\n",
    "        return min((Impact + Exploitability), 10)\n",
    "    elif Scope == \"CHANGED\":\n",
    "        return min(1.08 * (Impact + Exploitability),10)\n",
    "    \n",
    "def baseSeverity(baseScore):\n",
    "    if baseScore == 0:\n",
    "        return \"None\"\n",
    "    elif baseScore >= 0.1 and baseScore <= 3.9:\n",
    "        return \"Low\"\n",
    "    elif baseScore >= 4.0 and baseScore <= 6.9:\n",
    "        return \"Medium\"\n",
    "    elif baseScore >= 7.0 and baseScore <= 8.9:\n",
    "        return \"High\"\n",
    "    elif baseScore >= 9.0 and baseScore <= 10.0:\n",
    "        return \"Critical\"\n",
    "    \n",
    "cvss_dataset['v3_attackComplexity_n'] = cvss_dataset['v3_attackComplexity'].apply(Attack_Complexity_n)\n",
    "cvss_dataset['v3_attackVector_n'] = cvss_dataset['v3_attackVector'].apply(Attack_Vector_n)\n",
    "cvss_dataset['v3_privilegesRequired_n'] = cvss_dataset.apply(lambda x: Privileges_Required_n(x['v3_privilegesRequired'], x['v3_scope']),axis=1)\n",
    "cvss_dataset['v3_userInteraction_n'] = cvss_dataset['v3_userInteraction'].apply(User_Interaction_n)\n",
    "cvss_dataset['v3_confidentialityImpact_n'] = cvss_dataset['v3_confidentialityImpact'].apply(Con_Int_Ava)\n",
    "cvss_dataset['v3_integrityImpact_n'] = cvss_dataset['v3_integrityImpact'].apply(Con_Int_Ava)\n",
    "cvss_dataset['v3_availabilityImpact_n'] = cvss_dataset['v3_availabilityImpact'].apply(Con_Int_Ava)\n",
    "\n",
    "#print(cvss_dataset['v3_privilegesRequired_n'])\n",
    "'''define the formula of last four columns '''\n",
    "cvss_dataset['ISS'] = 1-(1-cvss_dataset['v3_confidentialityImpact_n'])*(1-cvss_dataset['v3_integrityImpact_n'])*(1-cvss_dataset['v3_availabilityImpact_n'])\n",
    "cvss_dataset.v3_exploitabilityScore = 8.22 * cvss_dataset['v3_attackVector_n'] * cvss_dataset['v3_attackComplexity_n'] * cvss_dataset['v3_privilegesRequired_n'] * cvss_dataset['v3_userInteraction_n']\n",
    "cvss_dataset.v3_impactScore = cvss_dataset.apply(lambda x: impactScore(x['ISS'],x['v3_scope']),axis=1)\n",
    "cvss_dataset.v3_baseScore = np.round(cvss_dataset.apply(lambda x: baseScore(x['v3_impactScore'],x['v3_exploitabilityScore'],x['v3_scope']),axis=1),decimals=1)\n",
    "cvss_dataset.v3_baseSeverity = cvss_dataset.v3_baseScore.apply(baseSeverity)\n",
    "merged_dataset = pd.merge(cvss_dataset, cve_mapping, on=[\"cve_id\"])\n",
    "#cvss_dataset.head()\n",
    "# (ADD ANY ADDITIONAL CELLS AS REQUIRED)\n"
   ]
  },
  {
   "cell_type": "raw",
   "metadata": {},
   "source": [
    "# YOUR WRITTEN ANSWER HERE\n",
    "\n",
    "First, I turned descriptive value in Attack Vector, Attack Complexity, Privileges Required and User Interaction columns into numeric value in order for the later calculation. Next, according to the CVSSv3.1 Guide, I used below formulas to calculate the last 4 columns.\n",
    "\n",
    "Impact =\n",
    "If Scope is Unchanged: 6.42 × ISS\n",
    "If Scope is Changed: 7.52 × (ISS - 0.029) - 3.25 × (ISS - 0.02)^15\n",
    "\n",
    "Exploitability = 8.22 × AttackVector × AttackComplexity × PrivilegesRequired × UserInteraction\n",
    "\n",
    "BaseScore =\n",
    "If Impact <= 0: 0,\n",
    "else\n",
    "If Scope is Unchanged: Roundup (Minimum [(Impact + Exploitability), 10])\n",
    "If Scope is Changed: Roundup (Minimum [1.08 × (Impact + Exploitability), 10])\n",
    "\n",
    "BaseSeverity is rated by the Qualitative Severity Rating Scale\n",
    "\n",
    "\n",
    "\n"
   ]
  },
  {
   "cell_type": "markdown",
   "metadata": {},
   "source": [
    "******\n",
    "## Q3: Data Exploration\n",
    "In this question you are asked to explore the given data and present information in a suitable manner. You are required to present the information both visually (using plots) and using descriptive statistics. "
   ]
  },
  {
   "cell_type": "markdown",
   "metadata": {},
   "source": [
    "#### (Q3.a)\n",
    "There is an unverified claim made that most of the CVEs reported in 2020 were of MEDIUM Severity.  How would you check that claim and present the conclusion? Please explain your approach and implement it in code.\n",
    "<span style= 'float: right;'><b>[5 marks]</b></span>"
   ]
  },
  {
   "cell_type": "code",
   "execution_count": 25,
   "metadata": {},
   "outputs": [
    {
     "data": {
      "image/png": "[encoded data removed]",
      "text/plain": [
       "<Figure size 432x288 with 1 Axes>"
      ]
     },
     "metadata": {},
     "output_type": "display_data"
    }
   ],
   "source": [
    "# YOUR CODE HERE\n",
    "fig1, ax1 = plt.subplots()\n",
    "\n",
    "labels = cvss_dataset['v3_baseSeverity'].unique()\n",
    "sizes = []\n",
    "for i in labels:\n",
    "    total_row = cvss_dataset.shape[0]\n",
    "    number = cvss_dataset[cvss_dataset['v3_baseSeverity'] == i].shape[0]\n",
    "    portion = number/total_row\n",
    "    sizes.append(portion)\n",
    "ax1.pie(sizes, labels=labels, autopct='%1.1f%%', wedgeprops={'linewidth': 1.2, 'edgecolor': 'white'}, textprops={'size': 'x-large'})\n",
    "ax1.axis('equal')  # Equal aspect ratio ensures that pie is drawn as a circle.\n",
    "plt.tight_layout()\n",
    "plt.show()\n",
    "# (ADD ANY ADDITIONAL CELLS AS REQUIRED)"
   ]
  },
  {
   "cell_type": "raw",
   "metadata": {},
   "source": [
    "# YOUR WRITTEN ANSWER HERE\n",
    "\n",
    "It is highly possible that the claim is true. I used pie chart to present the proportion of each base severity and the result shows that medium severity is the largest at 43.3%."
   ]
  },
  {
   "cell_type": "markdown",
   "metadata": {
    "tags": []
   },
   "source": [
    "#### (Q3.b)\n",
    "What are the top 5 CWEs that are mentioned in the data? Why did you present this information in the way you chose?\n",
    "<span style= 'float: right;'><b>[5 marks]</b></span>"
   ]
  },
  {
   "cell_type": "code",
   "execution_count": 26,
   "metadata": {},
   "outputs": [
    {
     "data": {
      "image/png": "[encoded data removed]",
      "text/plain": [
       "<Figure size 720x576 with 1 Axes>"
      ]
     },
     "metadata": {
      "needs_background": "light"
     },
     "output_type": "display_data"
    }
   ],
   "source": [
    "# YOUR CODE HERE\n",
    "\n",
    "cwe_list_origin = cvss_dataset['cwe_ids'].unique()\n",
    "cwe_list_trimmed = []\n",
    "for x in cwe_list_origin:                            #trim repeated CWEs \n",
    "    if x.find(\",\") == -1:\n",
    "        cwe_list_trimmed.append(x)\n",
    "    elif x.find(\",\") != -1:  \n",
    "        x = x.split(',')\n",
    "        #print(x)\n",
    "        for i in x:\n",
    "            #print(i)\n",
    "            cwe_list_trimmed.append(i)\n",
    "        \n",
    "cwe_list_trimmed = list(set(cwe_list_trimmed))\n",
    "     \n",
    "cwe_count = []\n",
    "for i in cwe_list_trimmed:                           #find every CWE's frequency \n",
    "    count = cvss_dataset[cvss_dataset['cwe_ids'].str.contains(i) == True ].shape[0]\n",
    "    cwe_count.append(count)\n",
    "\n",
    "zip_cwe = list(zip(cwe_count, cwe_list_trimmed))\n",
    "zip_cwe.sort(reverse = True)\n",
    "cwe_count, cwe_list_trimmed = zip(*zip_cwe)\n",
    "\n",
    "fig, ax = plt.subplots(figsize=(10, 8))\n",
    "plt.bar(cwe_list_trimmed[0:5], cwe_count[0:5], width = 0.5)\n",
    "plt.xticks(fontsize=10)\n",
    "plt.xlabel(\"CWE name\")\n",
    "plt.ylabel(\"CWE count\")\n",
    "plt.title(\"Top 5 CWE\",fontsize=15)\n",
    "plt.show()\n",
    "\n",
    "# (ADD ANY ADDITIONAL CELLS AS REQUIRED)"
   ]
  },
  {
   "cell_type": "raw",
   "metadata": {},
   "source": [
    "# YOUR WRITTEN ANSWER HERE\n",
    "1)The top 5 CWEs are CWE-79, CWE-78, CWE-787, CWE-125, CWE-89.\n",
    "2)I chose bar plot to visualise the top 5 CWEs because it provides a straightforward image about frequency of each CWE. Note that I excluded the presentation of other CWE besides the top 5, as this gives a clearer vision. When I was processing data, I selected all the single CWE that appeared in the \"cwe_ids\" column, and then calculated each frequency. This is to handle the issue that there were multiple cwe_id's attached to one cve_id.\n"
   ]
  },
  {
   "cell_type": "markdown",
   "metadata": {},
   "source": [
    "#### (Q3.c)\n",
    "Google products are commonly used.  Your team wants to know how cyber-threats are affecting google users.  Find all the CVEs associated with the Vendor google and present the distribution of CVSS Base Scores for google in a suitable manner.  Please also explain your steps.\n",
    "<span style= 'float: right;'><b>[5 marks]</b></span>"
   ]
  },
  {
   "cell_type": "code",
   "execution_count": 27,
   "metadata": {},
   "outputs": [
    {
     "data": {
      "image/png": "[encoded data removed]",
      "text/plain": [
       "<Figure size 720x576 with 1 Axes>"
      ]
     },
     "metadata": {
      "needs_background": "light"
     },
     "output_type": "display_data"
    }
   ],
   "source": [
    "# YOUR CODE HERE\n",
    "fig = plt.figure(figsize=(10, 8))\n",
    "google_basescore  = merged_dataset[merged_dataset[\"vendor\"] == \"google\"][\"v3_baseScore\"]\n",
    "n_bins = 10\n",
    "colors = 'lightblue'\n",
    "plt.hist(google_basescore, n_bins, histtype ='bar',color = colors)\n",
    "plt.title(\"Google associated CVE base score distribution\",fontsize=15)\n",
    "plt.xlabel(\"CVSS Base score\")\n",
    "plt.ylabel(\"Count\")\n",
    "plt.show()\n",
    "# (ADD ANY ADDITIONAL CELLS AS REQUIRED)"
   ]
  },
  {
   "cell_type": "raw",
   "metadata": {},
   "source": [
    "# YOUR WRITTEN ANSWER HERE\n",
    "First, I used merged dataset to find all the CVEs appeared in the Google's products. Next, I applied dataset derived from previous step to histogram to visualise the distribution of CVSS Base Scores for google. "
   ]
  },
  {
   "cell_type": "markdown",
   "metadata": {},
   "source": [
    "#### (Q3.d)\n",
    "Find the top 5 vendors that are most affected (i.e. that has most number of rows in the configurations table) and present the distribution of CVSS Base scores for these top 5 vendors using a suitable visualization.  Please also explain your steps.\n",
    "<span style= 'float: right;'><b>[10 marks]</b></span>"
   ]
  },
  {
   "cell_type": "code",
   "execution_count": 44,
   "metadata": {},
   "outputs": [
    {
     "name": "stdout",
     "output_type": "stream",
     "text": [
      "The top 5 vendors that are most affected are:['qualcomm', 'intel', 'netgear', 'apple', 'oracle']\n"
     ]
    },
    {
     "data": {
      "image/png": "[encoded data removed]",
      "text/plain": [
       "<Figure size 1152x432 with 5 Axes>"
      ]
     },
     "metadata": {
      "needs_background": "light"
     },
     "output_type": "display_data"
    }
   ],
   "source": [
    "# YOUR CODE HERE\n",
    "fig = plt.figure(figsize=(16, 6))\n",
    "vendor_count = merged_dataset[\"vendor\"].value_counts()                        #Use df.value_counts() to see how each CVEs affects to different vendors\n",
    "top5_vendor = vendor_count[0:5].keys().tolist()\n",
    "print(\"The top 5 vendors that are most affected are:\"+ str(top5_vendor))\n",
    "\n",
    "def vendor_data(vendor):                                                                 #This function gets CVEs associated with specific vendor easily\n",
    "    vendor_data = merged_dataset[merged_dataset[\"vendor\"] == vendor][\"v3_baseScore\"]\n",
    "    return vendor_data\n",
    "\n",
    "\n",
    "ax1 = fig.add_subplot(241)\n",
    "ax1.hist(vendor_data(top5_vendor[0]), histtype ='bar')\n",
    "ax1.set_title(\"Qualcomm\")\n",
    "\n",
    "ax2 = fig.add_subplot(242)\n",
    "ax2.hist(vendor_data(top5_vendor[1]), histtype ='bar')\n",
    "ax2.set_title(\"Intel\")\n",
    "\n",
    "ax3 = fig.add_subplot(243)\n",
    "ax3.hist(vendor_data(top5_vendor[2]), histtype ='bar')\n",
    "ax3.set_title(\"Netgear\")\n",
    "\n",
    "ax4 = fig.add_subplot(245)\n",
    "ax4.hist(vendor_data(top5_vendor[3]), histtype ='bar')\n",
    "ax4.set_title(\"Apple\")\n",
    "\n",
    "ax5 = fig.add_subplot(246)\n",
    "ax5.hist(vendor_data(top5_vendor[4]), histtype ='bar')\n",
    "ax5.set_title(\"Oracle\")\n",
    "\n",
    "fig.text(0.45, 0.04, 'CVSS Base Score', ha='center',fontsize = 12)\n",
    "fig.text(0.08, 0.5, 'Frequency', va='center', rotation='vertical',fontsize = 12)\n",
    "plt.show()\n",
    "\n",
    "# (ADD ANY ADDITIONAL CELLS AS REQUIRED)"
   ]
  },
  {
   "cell_type": "raw",
   "metadata": {},
   "source": [
    "# YOUR WRITTEN ANSWER HERE\n",
    "First I used df.value_counts() to see how each CVEs affects to different vendors and selected the top 5 affected vendors. Then I plotted 5 subplot and applied each vendor's data to histograms."
   ]
  },
  {
   "cell_type": "markdown",
   "metadata": {},
   "source": [
    "\n",
    "## Q4: Identifying Data Analysis Problems\n",
    "### CVEs and real world issues\n",
    "\n",
    "We mentioned that dataset is from 2020 and we have only given you the records that relate to the Software Development viewpoint. Do you remember any major software vulnerabilities that came to light in 2020? [This article](https://securityintelligence.com/posts/top-10-cybersecurity-vulnerabilities-2020/) claims that the top 2 vulnerabilities that were found in 2020 are;\n",
    "- CVE-2020-8515: Draytek Vigor Command Injection\n",
    "- CVE-2020-5722: HTTP: Grandstream UCM6200 SQL Injection\n",
    "\n",
    "However, there may be various viewpoints. For e.g.: [this article](https://blog.detectify.com/2020/12/30/top-10-critical-cves-added-in-2020/) mentions another 10 CVE's. \n",
    "\n",
    "Your task is as follows:\n",
    "#### (Q4.a)\n",
    "- Find and present the vulnerabilities that are mentioned in the above two articles in the given dataset in a tabular format. You may not find all the 12 CVE's. What are possible reasons for this? (5 marks)\n",
    "- Examine the properties of the CVEs that you found above. (At a minimum you should consider the data available in the './data/cvss_dataset.csv' file). Present a justification as to why some of the given CVEs may have been considered a _\"large\"_ bug? This should include references to the amount of damage a vulnerability caused, or could have potentially caused. (5 marks)\n",
    "\n",
    "<span style= 'float: right;'><b>[10 marks]</b></span>\n",
    "\n",
    "<br><br>\n",
    "**Additional question for COMP6420 students: [worth extra 10 marks]**\n",
    "#### (Q4.b)\n",
    "- If you were given the task of identifying the top-10 most critical CVEs in the given data, how would you tackle the problem? Give a brief list of initial analysis you would perform. (7 marks)\n",
    "\n",
    "- How would you go about implemention your proposed approach? (3 marks)\n",
    "\n",
    "References are highly recommended for this question (both parts a and b) so that you can evidence your argument. **DO NOT** forget to list your references, including in your statement of originality document.  **Please note that failure to reference or improper referencing constitute a case for plagiarism which can have serious consequences for you.  So make sure you use references appropriately.  Please familiarise yourself with the university's [academic integrity rules here](https://www.anu.edu.au/students/academic-skills/academic-integrity) if you have not done so already**."
   ]
  },
  {
   "cell_type": "code",
   "execution_count": 22,
   "metadata": {},
   "outputs": [
    {
     "data": {
      "text/html": [
       "<div>\n",
       "<style scoped>\n",
       "    .dataframe tbody tr th:only-of-type {\n",
       "        vertical-align: middle;\n",
       "    }\n",
       "\n",
       "    .dataframe tbody tr th {\n",
       "        vertical-align: top;\n",
       "    }\n",
       "\n",
       "    .dataframe thead th {\n",
       "        text-align: right;\n",
       "    }\n",
       "</style>\n",
       "<table border=\"1\" class=\"dataframe\">\n",
       "  <thead>\n",
       "    <tr style=\"text-align: right;\">\n",
       "      <th></th>\n",
       "      <th>cve_id</th>\n",
       "      <th>assigner</th>\n",
       "      <th>description</th>\n",
       "      <th>cwe_ids</th>\n",
       "      <th>v3_attackVector</th>\n",
       "      <th>v3_attackComplexity</th>\n",
       "      <th>v3_privilegesRequired</th>\n",
       "      <th>v3_userInteraction</th>\n",
       "      <th>v3_scope</th>\n",
       "      <th>v3_confidentialityImpact</th>\n",
       "      <th>v3_integrityImpact</th>\n",
       "      <th>v3_availabilityImpact</th>\n",
       "      <th>v3_exploitabilityScore</th>\n",
       "      <th>v3_impactScore</th>\n",
       "      <th>v3_baseScore</th>\n",
       "      <th>v3_baseSeverity</th>\n",
       "      <th>v3_attackComplexity_n</th>\n",
       "      <th>v3_attackVector_n</th>\n",
       "      <th>v3_privilegesRequired_n</th>\n",
       "      <th>v3_userInteraction_n</th>\n",
       "      <th>v3_confidentialityImpact_n</th>\n",
       "      <th>v3_integrityImpact_n</th>\n",
       "      <th>v3_availabilityImpact_n</th>\n",
       "      <th>ISS</th>\n",
       "    </tr>\n",
       "  </thead>\n",
       "  <tbody>\n",
       "    <tr>\n",
       "      <th>1595</th>\n",
       "      <td>CVE-2020-12720</td>\n",
       "      <td>cve@mitre.org</td>\n",
       "      <td>vBulletin before 5.5.6pl1, 5.6.0 before 5.6.0p...</td>\n",
       "      <td>CWE-89,CWE-306</td>\n",
       "      <td>NETWORK</td>\n",
       "      <td>LOW</td>\n",
       "      <td>NONE</td>\n",
       "      <td>NONE</td>\n",
       "      <td>UNCHANGED</td>\n",
       "      <td>HIGH</td>\n",
       "      <td>HIGH</td>\n",
       "      <td>HIGH</td>\n",
       "      <td>3.887043</td>\n",
       "      <td>5.873119</td>\n",
       "      <td>9.8</td>\n",
       "      <td>Critical</td>\n",
       "      <td>0.77</td>\n",
       "      <td>0.85</td>\n",
       "      <td>0.85</td>\n",
       "      <td>0.85</td>\n",
       "      <td>0.56</td>\n",
       "      <td>0.56</td>\n",
       "      <td>0.56</td>\n",
       "      <td>0.914816</td>\n",
       "    </tr>\n",
       "    <tr>\n",
       "      <th>3129</th>\n",
       "      <td>CVE-2020-17530</td>\n",
       "      <td>security@apache.org</td>\n",
       "      <td>Forced OGNL evaluation, when evaluated on raw ...</td>\n",
       "      <td>CWE-917</td>\n",
       "      <td>NETWORK</td>\n",
       "      <td>LOW</td>\n",
       "      <td>NONE</td>\n",
       "      <td>NONE</td>\n",
       "      <td>UNCHANGED</td>\n",
       "      <td>HIGH</td>\n",
       "      <td>HIGH</td>\n",
       "      <td>HIGH</td>\n",
       "      <td>3.887043</td>\n",
       "      <td>5.873119</td>\n",
       "      <td>9.8</td>\n",
       "      <td>Critical</td>\n",
       "      <td>0.77</td>\n",
       "      <td>0.85</td>\n",
       "      <td>0.85</td>\n",
       "      <td>0.85</td>\n",
       "      <td>0.56</td>\n",
       "      <td>0.56</td>\n",
       "      <td>0.56</td>\n",
       "      <td>0.914816</td>\n",
       "    </tr>\n",
       "    <tr>\n",
       "      <th>7331</th>\n",
       "      <td>CVE-2020-5722</td>\n",
       "      <td>vulnreport@tenable.com</td>\n",
       "      <td>The HTTP interface of the Grandstream UCM6200 ...</td>\n",
       "      <td>CWE-89</td>\n",
       "      <td>NETWORK</td>\n",
       "      <td>LOW</td>\n",
       "      <td>NONE</td>\n",
       "      <td>NONE</td>\n",
       "      <td>UNCHANGED</td>\n",
       "      <td>HIGH</td>\n",
       "      <td>HIGH</td>\n",
       "      <td>HIGH</td>\n",
       "      <td>3.887043</td>\n",
       "      <td>5.873119</td>\n",
       "      <td>9.8</td>\n",
       "      <td>Critical</td>\n",
       "      <td>0.77</td>\n",
       "      <td>0.85</td>\n",
       "      <td>0.85</td>\n",
       "      <td>0.85</td>\n",
       "      <td>0.56</td>\n",
       "      <td>0.56</td>\n",
       "      <td>0.56</td>\n",
       "      <td>0.914816</td>\n",
       "    </tr>\n",
       "    <tr>\n",
       "      <th>7419</th>\n",
       "      <td>CVE-2020-5902</td>\n",
       "      <td>f5sirt@f5.com</td>\n",
       "      <td>In BIG-IP versions 15.0.0-15.1.0.3, 14.1.0-14....</td>\n",
       "      <td>CWE-22,CWE-829</td>\n",
       "      <td>NETWORK</td>\n",
       "      <td>LOW</td>\n",
       "      <td>NONE</td>\n",
       "      <td>NONE</td>\n",
       "      <td>UNCHANGED</td>\n",
       "      <td>HIGH</td>\n",
       "      <td>HIGH</td>\n",
       "      <td>HIGH</td>\n",
       "      <td>3.887043</td>\n",
       "      <td>5.873119</td>\n",
       "      <td>9.8</td>\n",
       "      <td>Critical</td>\n",
       "      <td>0.77</td>\n",
       "      <td>0.85</td>\n",
       "      <td>0.85</td>\n",
       "      <td>0.85</td>\n",
       "      <td>0.56</td>\n",
       "      <td>0.56</td>\n",
       "      <td>0.56</td>\n",
       "      <td>0.914816</td>\n",
       "    </tr>\n",
       "    <tr>\n",
       "      <th>8525</th>\n",
       "      <td>CVE-2020-8515</td>\n",
       "      <td>cve@mitre.org</td>\n",
       "      <td>DrayTek Vigor2960 1.3.1_Beta, Vigor3900 1.4.4_...</td>\n",
       "      <td>CWE-78</td>\n",
       "      <td>NETWORK</td>\n",
       "      <td>LOW</td>\n",
       "      <td>NONE</td>\n",
       "      <td>NONE</td>\n",
       "      <td>UNCHANGED</td>\n",
       "      <td>HIGH</td>\n",
       "      <td>HIGH</td>\n",
       "      <td>HIGH</td>\n",
       "      <td>3.887043</td>\n",
       "      <td>5.873119</td>\n",
       "      <td>9.8</td>\n",
       "      <td>Critical</td>\n",
       "      <td>0.77</td>\n",
       "      <td>0.85</td>\n",
       "      <td>0.85</td>\n",
       "      <td>0.85</td>\n",
       "      <td>0.56</td>\n",
       "      <td>0.56</td>\n",
       "      <td>0.56</td>\n",
       "      <td>0.914816</td>\n",
       "    </tr>\n",
       "  </tbody>\n",
       "</table>\n",
       "</div>"
      ],
      "text/plain": [
       "              cve_id                assigner  \\\n",
       "1595  CVE-2020-12720           cve@mitre.org   \n",
       "3129  CVE-2020-17530     security@apache.org   \n",
       "7331   CVE-2020-5722  vulnreport@tenable.com   \n",
       "7419   CVE-2020-5902           f5sirt@f5.com   \n",
       "8525   CVE-2020-8515           cve@mitre.org   \n",
       "\n",
       "                                            description         cwe_ids  \\\n",
       "1595  vBulletin before 5.5.6pl1, 5.6.0 before 5.6.0p...  CWE-89,CWE-306   \n",
       "3129  Forced OGNL evaluation, when evaluated on raw ...         CWE-917   \n",
       "7331  The HTTP interface of the Grandstream UCM6200 ...          CWE-89   \n",
       "7419  In BIG-IP versions 15.0.0-15.1.0.3, 14.1.0-14....  CWE-22,CWE-829   \n",
       "8525  DrayTek Vigor2960 1.3.1_Beta, Vigor3900 1.4.4_...          CWE-78   \n",
       "\n",
       "     v3_attackVector v3_attackComplexity v3_privilegesRequired  \\\n",
       "1595         NETWORK                 LOW                  NONE   \n",
       "3129         NETWORK                 LOW                  NONE   \n",
       "7331         NETWORK                 LOW                  NONE   \n",
       "7419         NETWORK                 LOW                  NONE   \n",
       "8525         NETWORK                 LOW                  NONE   \n",
       "\n",
       "     v3_userInteraction   v3_scope v3_confidentialityImpact  \\\n",
       "1595               NONE  UNCHANGED                     HIGH   \n",
       "3129               NONE  UNCHANGED                     HIGH   \n",
       "7331               NONE  UNCHANGED                     HIGH   \n",
       "7419               NONE  UNCHANGED                     HIGH   \n",
       "8525               NONE  UNCHANGED                     HIGH   \n",
       "\n",
       "     v3_integrityImpact v3_availabilityImpact  v3_exploitabilityScore  \\\n",
       "1595               HIGH                  HIGH                3.887043   \n",
       "3129               HIGH                  HIGH                3.887043   \n",
       "7331               HIGH                  HIGH                3.887043   \n",
       "7419               HIGH                  HIGH                3.887043   \n",
       "8525               HIGH                  HIGH                3.887043   \n",
       "\n",
       "      v3_impactScore  v3_baseScore v3_baseSeverity  v3_attackComplexity_n  \\\n",
       "1595        5.873119           9.8        Critical                   0.77   \n",
       "3129        5.873119           9.8        Critical                   0.77   \n",
       "7331        5.873119           9.8        Critical                   0.77   \n",
       "7419        5.873119           9.8        Critical                   0.77   \n",
       "8525        5.873119           9.8        Critical                   0.77   \n",
       "\n",
       "      v3_attackVector_n  v3_privilegesRequired_n  v3_userInteraction_n  \\\n",
       "1595               0.85                     0.85                  0.85   \n",
       "3129               0.85                     0.85                  0.85   \n",
       "7331               0.85                     0.85                  0.85   \n",
       "7419               0.85                     0.85                  0.85   \n",
       "8525               0.85                     0.85                  0.85   \n",
       "\n",
       "      v3_confidentialityImpact_n  v3_integrityImpact_n  \\\n",
       "1595                        0.56                  0.56   \n",
       "3129                        0.56                  0.56   \n",
       "7331                        0.56                  0.56   \n",
       "7419                        0.56                  0.56   \n",
       "8525                        0.56                  0.56   \n",
       "\n",
       "      v3_availabilityImpact_n       ISS  \n",
       "1595                     0.56  0.914816  \n",
       "3129                     0.56  0.914816  \n",
       "7331                     0.56  0.914816  \n",
       "7419                     0.56  0.914816  \n",
       "8525                     0.56  0.914816  "
      ]
     },
     "metadata": {},
     "output_type": "display_data"
    }
   ],
   "source": [
    "# YOUR CODE HERE\n",
    "top12CVEs = cvss_dataset[cvss_dataset[\"cve_id\"].isin([\"CVE-2020-8515\", \"CVE-2020-5722\", \"CVE-2020-12720\",\"CVE-2020-5902\",\"CVE-2020-15506\",\"CVE-2020-14882\",\"CVE-2020-14750\",\"CVE-2020-17530\",\"CVE-2020-2551\",\" CVE-2020-13379\",\"CVE-2020-1147\",\"CVE-2020-8209\"])]\n",
    "pd.set_option(\"display.max_rows\", None, \"display.max_columns\", None)\n",
    "display(top12CVEs)\n",
    "\n",
    "# (ADD ANY ADDITIONAL CELLS AS REQUIRED)"
   ]
  },
  {
   "cell_type": "raw",
   "metadata": {},
   "source": [
    "# YOUR WRITTEN ANSWER HERE"
   ]
  },
  {
   "cell_type": "markdown",
   "metadata": {},
   "source": [
    "******\n",
    "## Q5: Data Analysis\n",
    "In this section, you will be provided a question or statement that you are required to prove/disprove. For each question, you are to provide a statement outlining your answer, using evidence from the dataset as your justification. You are expected to draw upon not only your visualisation skills, but also your hypothesis testing skills where required. That means you expected to justify your answer based on both statistical and visual evidence.\n",
    "\n",
    "Don't forget to state any assumptions you make in the questions in order to clarify your argument.\n",
    "\n",
    "Use the following as a guide to assess the statements given below:\n",
    "- How would you assess the given statement? \n",
    "- What kinds of statistical tests are appropriate to validate the statement? Justify your selection.\n",
    "- How would you present the information related to the statement in a graphical manner?\n",
    "- What is your answer to the statement? Why do you say so?\n",
    "\n",
    "**Hint:** You are not expected to build Machine Learning models to answer this question. "
   ]
  },
  {
   "cell_type": "markdown",
   "metadata": {},
   "source": [
    "#### (Q5.a)\n",
    "#### Statement: \"The sum of the two sub scores (i.e. the Exploitability sub-score and the Impact sub-score) is a 'good' predictor for the Base Score.\"\n",
    "\n",
    "After implementing the **CVSSv3.1** Base Score calculator in Question 2, you may recall that the Base Score is derived from two sub scores (i.e. the Exploitability sub-score and the Impact sub-score). For simplicity, let us explore whether we can get a 'good' estimate for the Base Score just by simply adding up the Exploitability sub-score and the Impact sub-score. \n",
    "\n",
    "[5 marks for code implementation, 5 marks for written response]\n",
    "<span style= 'float: right;'><b>[10 marks]</b></span>"
   ]
  },
  {
   "cell_type": "code",
   "execution_count": null,
   "metadata": {},
   "outputs": [],
   "source": [
    "# YOUR CODE HERE\n",
    "\n",
    "# (ADD ANY ADDITIONAL CELLS AS REQUIRED)"
   ]
  },
  {
   "cell_type": "raw",
   "metadata": {},
   "source": [
    "# YOUR WRITTEN ANSWER HERE"
   ]
  },
  {
   "cell_type": "markdown",
   "metadata": {},
   "source": [
    "#### (Q5.b):\n",
    "\n",
    "#### Statement: \"The entries which require both LOW/None privileges AND LOW attack complexity have a higer CVSS Base Score.\"\n",
    "\n",
    "In this question we are looking at the relationship beetween some of the categorial data that is present in our dataset and our response variable. \n",
    "\n",
    "[5 marks for code implementation, 5 marks for written response]        \n",
    "<span style= 'float: right;'><b>[10 marks]</b></span>"
   ]
  },
  {
   "cell_type": "code",
   "execution_count": 3,
   "metadata": {},
   "outputs": [],
   "source": [
    "# YOUR CODE HERE\n",
    "\n",
    "# (ADD ANY ADDITIONAL CELLS AS REQUIRED)"
   ]
  },
  {
   "cell_type": "raw",
   "metadata": {},
   "source": [
    "# YOUR WRITTEN ANSWER HERE"
   ]
  },
  {
   "cell_type": "markdown",
   "metadata": {},
   "source": [
    "******\n",
    "## Q6: Classification"
   ]
  },
  {
   "cell_type": "markdown",
   "metadata": {},
   "source": [
    "Now you are asked to build a classification model to predict the Threat level (Base Severity) of a vulnerability. \n",
    "\n",
    "Your task is as follows:\n",
    "#### (Q6.a): Train a classification model to predict Threat level (Base Severity). You are able to choose any variables in the dataset, except of course the Base Scores, Sub Scores and Base Severity. (10 marks)\n",
    "#### (Q6.b): Why did you implement this particular model? What are the advantages and limitations of this type of model? (2 marks)\n",
    "#### (Q6.c): What are your considerations in implementing the training/testing split? Why did you make this choice? (2 marks)\n",
    "#### (Q6.d): Briefly explain your training considerations (including iterations, hyper-parameters and variable selection). (2 marks)\n",
    "#### (Q6.e):  How did you perform testing and validation? Which metrics were used in the validation? (2 marks)\n",
    "#### (Q6.f): After running your experiment, provide a written answer highlighting your results and the outcome of your work. (2 marks)\n",
    "\n",
    "<span style= 'float: right;'><b>[20 marks]</b></span>"
   ]
  },
  {
   "cell_type": "code",
   "execution_count": 9,
   "metadata": {},
   "outputs": [],
   "source": [
    "# YOUR CODE HERE\n",
    "\n",
    "# (ADD ANY ADDITIONAL CELLS AS REQUIRED)"
   ]
  },
  {
   "cell_type": "raw",
   "metadata": {},
   "source": [
    "# YOUR WRITTEN ANSWER HERE"
   ]
  },
  {
   "cell_type": "markdown",
   "metadata": {
    "tags": []
   },
   "source": [
    "******\n",
    "## Q7: Apply your knowledge to the problem domain\n",
    "\n",
    "The government is worried about security issues that target user involvement over the internet.  You have been asked to help identify relevant vulnerabilities that need to be prioritised for patching.  While the CVSS systems provide a good general system for determining the Threat Level (Severity) of a vulnerability, you are only concerned with weaknesses that can be exploited over a network, and require user interaction.\n",
    "\n",
    "Your task is as follows:    \n",
    "#### (Q7.a)\n",
    "- Develop and present a basic heuristic to classify the Threat Level to identify which products need patching relevant to the above given context. A heuristic is a simple set of rules or a rule of thumb (e.g. 'If the fire alarm is activated, then leave the building' or 'If there are grey clouds, bring the washing in as it might rain' ). (2 marks)\n",
    "<br>(Similar to the Q6 above, you are able to choose any variables in the dataset, except of course the Base Scores, Sub Scores and Base Severity)\n",
    "- Run your heuristic over the dataset, and add the output to each row on the dataset, under a new column named `Threat Classification`.  (5 marks)\n",
    "- Justify your use of variables and the reasoning behind your heuristic in the written section below and explain how this might be an effective solution to stopping attacks. (3 marks)\n",
    "\n",
    "<span style= 'float: right;'><b>[10 marks]</b></span>\n",
    "\n",
    "<br><br>\n",
    "**Additional question for COMP6420 students: [worth extra 10 marks]**\n",
    "#### (Q7.b)\n",
    " - Compare your heuristic result with the actual result (threat level) (5 marks)\n",
    " - Based on your result, how would you improve your heuristic? (no implementation is required) (5 marks)\n"
   ]
  },
  {
   "cell_type": "code",
   "execution_count": 11,
   "metadata": {},
   "outputs": [],
   "source": [
    "# YOUR CODE HERE\n",
    "\n",
    "# (ADD ANY ADDITIONAL CELLS AS REQUIRED)"
   ]
  },
  {
   "cell_type": "raw",
   "metadata": {},
   "source": [
    "# YOUR WRITTEN ANSWER HERE"
   ]
  }
 ],
 "metadata": {
  "kernelspec": {
   "display_name": "Python 3 (ipykernel)",
   "language": "python",
   "name": "python3"
  },
  "language_info": {
   "codemirror_mode": {
    "name": "ipython",
    "version": 3
   },
   "file_extension": ".py",
   "mimetype": "text/x-python",
   "name": "python",
   "nbconvert_exporter": "python",
   "pygments_lexer": "ipython3",
   "version": "3.9.7"
  }
 },
 "nbformat": 4,
 "nbformat_minor": 4
}
